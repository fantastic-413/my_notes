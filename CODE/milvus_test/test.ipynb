{
 "cells": [
  {
   "cell_type": "code",
   "execution_count": null,
   "metadata": {},
   "outputs": [
    {
     "name": "stdout",
     "output_type": "stream",
     "text": [
      "['default', 'test_db']\n",
      "['hybrid_search_collection']\n",
      "集合 hybrid_search_collection 已删除\n"
     ]
    }
   ],
   "source": [
    "from pymilvus import (\n",
    "    connections,\n",
    "    utility,\n",
    "    FieldSchema, CollectionSchema, DataType,\n",
    "    Collection,\n",
    "    AnnSearchRequest, RRFRanker, WeightedRanker,\n",
    "    db\n",
    ")\n",
    "import random\n",
    "import numpy as np\n",
    "import time\n",
    "\n",
    "conn = connections.connect(host=\"127.0.0.1\", port=19530)\n",
    "\n",
    "# database = db.create_database(\"test_db\")\n",
    "db.using_database(\"test_db\")\n",
    "print(db.list_database())\n",
    "# db.drop_database(\"test_db\")\n",
    "\n",
    "# 列出所有集合\n",
    "collections = utility.list_collections()\n",
    "print(collections)\n",
    "# 删除指定集合（例如名为 \"your_collection_name\" 的集合）\n",
    "collection_name = \"hybrid_search_collection\"\n",
    "if utility.has_collection(collection_name):\n",
    "    utility.drop_collection(collection_name)\n",
    "    print(f\"集合 {collection_name} 已删除\")"
   ]
  },
  {
   "cell_type": "code",
   "execution_count": null,
   "metadata": {},
   "outputs": [
    {
     "name": "stdout",
     "output_type": "stream",
     "text": [
      "(insert count: 100, delete count: 0, upsert count: 0, timestamp: 456343895500652548, success count: 100, err count: 0\n",
      "0\n"
     ]
    }
   ],
   "source": [
    "dim = 128\n",
    "collection_name = \"test_collection\"\n",
    "\n",
    "fields = [\n",
    "    FieldSchema(name=\"pk\", dtype=DataType.INT64, is_primary=True, auto_id=True),\n",
    "    FieldSchema(name=\"text\", dtype=DataType.VARCHAR, max_length=512),\n",
    "    FieldSchema(name=\"embeddings\", dtype=DataType.FLOAT_VECTOR, dim=dim)\n",
    "]\n",
    "schema = CollectionSchema(fields, \"test_schema\")\n",
    "test_collection = Collection(collection_name, schema)\n",
    "\n",
    "has = utility.has_collection(collection_name)\n",
    "print(f\"Does collection {collection_name} exist in Milvus: {has}\")\n",
    "\n",
    "rng = np.random.default_rng(seed=19530)\n",
    "entities = [\n",
    "    ['文本'+str(i) for i in range(100)],\n",
    "    rng.random((100, dim)),    # field embeddings, supports numpy.ndarray and list\n",
    "]\n",
    "\n",
    "insert_res = test_collection.insert(entities)\n",
    "print(insert_res)\n",
    "print(test_collection.num_entities)\n",
    "\n",
    "test_collection.flush()"
   ]
  },
  {
   "cell_type": "code",
   "execution_count": 18,
   "metadata": {},
   "outputs": [
    {
     "name": "stdout",
     "output_type": "stream",
     "text": [
      "Start Creating index IVF_FLAT\n",
      "Index created\n",
      "{'total_rows': 100, 'indexed_rows': 100, 'pending_index_rows': 0, 'state': 'Finished'}\n"
     ]
    }
   ],
   "source": [
    "print(\"Start Creating index IVF_FLAT\")\n",
    "index = {\n",
    "    \"index_type\": \"IVF_FLAT\",\n",
    "    \"metric_type\": \"L2\",\n",
    "    \"params\": {\"nlist\": 128},\n",
    "}\n",
    "\n",
    "test_collection.create_index(\"embeddings\", index)\n",
    "print(\"Index created\")\n",
    "print(utility.index_building_progress(collection_name))"
   ]
  },
  {
   "cell_type": "code",
   "execution_count": null,
   "metadata": {},
   "outputs": [
    {
     "name": "stdout",
     "output_type": "stream",
     "text": [
      "Start loading\n",
      "data: ['[\"pk: 456329487459038530, distance: 15.325583457946777, entity: {\\'text\\': \\'文本15\\'}\"]']\n",
      "pk: 456329487459038530, distance: 15.325583457946777, entity: {'text': '文本15'}\n"
     ]
    }
   ],
   "source": [
    "\n",
    "print(\"Start loading\")\n",
    "test_collection.load()\n",
    "field_names = [\"embeddings\"]\n",
    "\n",
    "search_params = {\n",
    "    \"metric_type\": \"L2\",\n",
    "    \"params\": {\"nprobe\": 10},\n",
    "}\n",
    "\n",
    "result = test_collection.search(\n",
    "    data=[rng.random(dim)],\n",
    "    anns_field=\"embeddings\",\n",
    "    param=search_params,\n",
    "    limit=10,\n",
    "    expr=\"text in ['文本15']\",# \"text in ['文本1', '文本2']\",\n",
    "    output_fields=[\"text\"],\n",
    ")"
   ]
  }
 ],
 "metadata": {
  "kernelspec": {
   "display_name": "milvus",
   "language": "python",
   "name": "python3"
  },
  "language_info": {
   "codemirror_mode": {
    "name": "ipython",
    "version": 3
   },
   "file_extension": ".py",
   "mimetype": "text/x-python",
   "name": "python",
   "nbconvert_exporter": "python",
   "pygments_lexer": "ipython3",
   "version": "3.10.0"
  }
 },
 "nbformat": 4,
 "nbformat_minor": 2
}
